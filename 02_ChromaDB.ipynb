{
 "cells": [
  {
   "cell_type": "markdown",
   "id": "8cb028f2-30af-4943-a130-827b42afb124",
   "metadata": {},
   "source": [
    "### Semantic Search Using Chroma DB"
   ]
  },
  {
   "cell_type": "code",
   "execution_count": 2,
   "id": "28f60170-64c3-411f-b993-e6a80108face",
   "metadata": {},
   "outputs": [],
   "source": [
    "import chromadb"
   ]
  },
  {
   "cell_type": "code",
   "execution_count": null,
   "id": "9bd8e0c5-253e-40a0-ae6f-9a0ec39bbc7e",
   "metadata": {},
   "outputs": [],
   "source": []
  }
 ],
 "metadata": {
  "kernelspec": {
   "display_name": "Python 3 (ipykernel)",
   "language": "python",
   "name": "python3"
  },
  "language_info": {
   "codemirror_mode": {
    "name": "ipython",
    "version": 3
   },
   "file_extension": ".py",
   "mimetype": "text/x-python",
   "name": "python",
   "nbconvert_exporter": "python",
   "pygments_lexer": "ipython3",
   "version": "3.10.6"
  }
 },
 "nbformat": 4,
 "nbformat_minor": 5
}
