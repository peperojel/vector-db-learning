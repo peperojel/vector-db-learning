{
 "cells": [
  {
   "cell_type": "markdown",
   "id": "8cb028f2-30af-4943-a130-827b42afb124",
   "metadata": {},
   "source": [
    "### Semantic Search Using Chroma DB"
   ]
  },
  {
   "cell_type": "code",
   "execution_count": 3,
   "id": "28f60170-64c3-411f-b993-e6a80108face",
   "metadata": {},
   "outputs": [],
   "source": [
    "import chromadb\n",
    "import pandas as pd"
   ]
  },
  {
   "cell_type": "code",
   "execution_count": 41,
   "id": "9bd8e0c5-253e-40a0-ae6f-9a0ec39bbc7e",
   "metadata": {},
   "outputs": [],
   "source": [
    "df = pd.read_csv(\"medium_post_titles.csv\")\n",
    "\n",
    "df = df.dropna()\n",
    "df = df[~df[\"subtitle_truncated_flag\"]]\n",
    "\n",
    "topics_of_interest = ['artificial-intelligence', 'data-science', 'machine-learning']\n",
    "\n",
    "df = df[df['category'].isin(topics_of_interest)]\n",
    "\n",
    "df['text'] = df['title'] + df['subtitle']\n",
    "\n",
    "df['meta'] = df.apply( lambda x: {\n",
    "    'text': x['text'],\n",
    "    'category': x['category']\n",
    "}, axis=1)"
   ]
  },
  {
   "cell_type": "code",
   "execution_count": 20,
   "id": "9da9280b-9d9a-4742-8ceb-8d9beb3db092",
   "metadata": {},
   "outputs": [
    {
     "data": {
      "text/html": [
       "<div>\n",
       "<style scoped>\n",
       "    .dataframe tbody tr th:only-of-type {\n",
       "        vertical-align: middle;\n",
       "    }\n",
       "\n",
       "    .dataframe tbody tr th {\n",
       "        vertical-align: top;\n",
       "    }\n",
       "\n",
       "    .dataframe thead th {\n",
       "        text-align: right;\n",
       "    }\n",
       "</style>\n",
       "<table border=\"1\" class=\"dataframe\">\n",
       "  <thead>\n",
       "    <tr style=\"text-align: right;\">\n",
       "      <th></th>\n",
       "      <th>category</th>\n",
       "      <th>title</th>\n",
       "      <th>subtitle</th>\n",
       "      <th>subtitle_truncated_flag</th>\n",
       "      <th>text</th>\n",
       "      <th>meta</th>\n",
       "    </tr>\n",
       "  </thead>\n",
       "  <tbody>\n",
       "    <tr>\n",
       "      <th>4</th>\n",
       "      <td>artificial-intelligence</td>\n",
       "      <td>\"Can I Train my Model on Your Computer?\"</td>\n",
       "      <td>How we waste computational resources and how t...</td>\n",
       "      <td>False</td>\n",
       "      <td>\"Can I Train my Model on Your Computer?\"How we...</td>\n",
       "      <td>{'text': '\"Can I Train my Model on Your Comput...</td>\n",
       "    </tr>\n",
       "    <tr>\n",
       "      <th>289</th>\n",
       "      <td>data-science</td>\n",
       "      <td>(Robot) data scientists as a service</td>\n",
       "      <td>Automating data science with symbolic regressi...</td>\n",
       "      <td>False</td>\n",
       "      <td>(Robot) data scientists as a serviceAutomating...</td>\n",
       "      <td>{'text': '(Robot) data scientists as a service...</td>\n",
       "    </tr>\n",
       "    <tr>\n",
       "      <th>448</th>\n",
       "      <td>data-science</td>\n",
       "      <td>10 Free tools to get started with Data Visuali...</td>\n",
       "      <td>Jump right into the Data Visualisation process...</td>\n",
       "      <td>False</td>\n",
       "      <td>10 Free tools to get started with Data Visuali...</td>\n",
       "      <td>{'text': '10 Free tools to get started with Da...</td>\n",
       "    </tr>\n",
       "    <tr>\n",
       "      <th>454</th>\n",
       "      <td>data-science</td>\n",
       "      <td>10 Great Programming Projects to Improve Your ...</td>\n",
       "      <td>Improve your skills in web development, progra...</td>\n",
       "      <td>False</td>\n",
       "      <td>10 Great Programming Projects to Improve Your ...</td>\n",
       "      <td>{'text': '10 Great Programming Projects to Imp...</td>\n",
       "    </tr>\n",
       "    <tr>\n",
       "      <th>487</th>\n",
       "      <td>machine-learning</td>\n",
       "      <td>10 Lessons Learned From Participating in Googl...</td>\n",
       "      <td>Quick, Draw! Doodle Recognition Challenge was ...</td>\n",
       "      <td>False</td>\n",
       "      <td>10 Lessons Learned From Participating in Googl...</td>\n",
       "      <td>{'text': '10 Lessons Learned From Participatin...</td>\n",
       "    </tr>\n",
       "  </tbody>\n",
       "</table>\n",
       "</div>"
      ],
      "text/plain": [
       "                    category  \\\n",
       "4    artificial-intelligence   \n",
       "289             data-science   \n",
       "448             data-science   \n",
       "454             data-science   \n",
       "487         machine-learning   \n",
       "\n",
       "                                                 title  \\\n",
       "4             \"Can I Train my Model on Your Computer?\"   \n",
       "289               (Robot) data scientists as a service   \n",
       "448  10 Free tools to get started with Data Visuali...   \n",
       "454  10 Great Programming Projects to Improve Your ...   \n",
       "487  10 Lessons Learned From Participating in Googl...   \n",
       "\n",
       "                                              subtitle  \\\n",
       "4    How we waste computational resources and how t...   \n",
       "289  Automating data science with symbolic regressi...   \n",
       "448  Jump right into the Data Visualisation process...   \n",
       "454  Improve your skills in web development, progra...   \n",
       "487  Quick, Draw! Doodle Recognition Challenge was ...   \n",
       "\n",
       "     subtitle_truncated_flag  \\\n",
       "4                      False   \n",
       "289                    False   \n",
       "448                    False   \n",
       "454                    False   \n",
       "487                    False   \n",
       "\n",
       "                                                  text  \\\n",
       "4    \"Can I Train my Model on Your Computer?\"How we...   \n",
       "289  (Robot) data scientists as a serviceAutomating...   \n",
       "448  10 Free tools to get started with Data Visuali...   \n",
       "454  10 Great Programming Projects to Improve Your ...   \n",
       "487  10 Lessons Learned From Participating in Googl...   \n",
       "\n",
       "                                                  meta  \n",
       "4    {'text': '\"Can I Train my Model on Your Comput...  \n",
       "289  {'text': '(Robot) data scientists as a service...  \n",
       "448  {'text': '10 Free tools to get started with Da...  \n",
       "454  {'text': '10 Great Programming Projects to Imp...  \n",
       "487  {'text': '10 Lessons Learned From Participatin...  "
      ]
     },
     "execution_count": 20,
     "metadata": {},
     "output_type": "execute_result"
    }
   ],
   "source": [
    "df.head()"
   ]
  },
  {
   "cell_type": "code",
   "execution_count": null,
   "id": "4e03ce58-45e4-4007-b994-b213112391d0",
   "metadata": {},
   "outputs": [],
   "source": []
  },
  {
   "cell_type": "code",
   "execution_count": 56,
   "id": "b2229aa3-c1a2-40fa-8d20-ca1d2d6f38e7",
   "metadata": {},
   "outputs": [
    {
     "data": {
      "text/plain": [
       "4082"
      ]
     },
     "execution_count": 56,
     "metadata": {},
     "output_type": "execute_result"
    }
   ],
   "source": [
    "# Chroma DB Setup\n",
    "current_df = df\n",
    "\n",
    "chrome_client = chromadb.PersistentClient(\"local_dbs/chroma_db\")\n",
    "\n",
    "# Collection creation\n",
    "article_collection = chroma_client.get_or_create_collection(name=\"medium_article\")\n",
    "\n",
    "indexes = [f\"{x}\" for x in current_df.index.tolist()]\n",
    "\n",
    "len(indexes)"
   ]
  },
  {
   "cell_type": "code",
   "execution_count": 57,
   "id": "437d5da7-4edd-45b2-98c0-61c8d790d6fd",
   "metadata": {},
   "outputs": [],
   "source": [
    "# Inserting data\n",
    "article_collection.upsert(\n",
    "    ids=indexes,\n",
    "    documents=current_df['text'].tolist(),\n",
    "    metadatas=current_df['meta'].tolist()\n",
    ")"
   ]
  },
  {
   "cell_type": "code",
   "execution_count": 59,
   "id": "cfedb7ce-084f-4cb0-8a71-cdcd5aabb766",
   "metadata": {},
   "outputs": [
    {
     "data": {
      "text/plain": [
       "{'ids': [['65427']],\n",
       " 'distances': [[0.5896157026290894]],\n",
       " 'metadatas': [[{'category': 'data-science',\n",
       "    'text': 'My Favorite Data Science/Machine Learning ResourcesA summary of sources to get into Data Science'}]],\n",
       " 'embeddings': None,\n",
       " 'documents': [['My Favorite Data Science/Machine Learning ResourcesA summary of sources to get into Data Science']]}"
      ]
     },
     "execution_count": 59,
     "metadata": {},
     "output_type": "execute_result"
    }
   ],
   "source": [
    "qry_str = \"best data science library\"\n",
    "article_collection.query(query_texts=qry_str, n_results=1)"
   ]
  },
  {
   "cell_type": "code",
   "execution_count": 60,
   "id": "63a1a2d7-a7c7-417d-9dfd-1443d3b415f1",
   "metadata": {},
   "outputs": [
    {
     "data": {
      "text/plain": [
       "{'ids': [['103719']],\n",
       " 'distances': [[0.6521782875061035]],\n",
       " 'metadatas': [[{'category': 'machine-learning',\n",
       "    'text': 'Top 7 libraries and packages of the year for Data Science and AI: Python & RThis is a list of the best libraries and packages that changed our lives this year, compiled from my weekly digests'}]],\n",
       " 'embeddings': None,\n",
       " 'documents': [['Top 7 libraries and packages of the year for Data Science and AI: Python & RThis is a list of the best libraries and packages that changed our lives this year, compiled from my weekly digests']]}"
      ]
     },
     "execution_count": 60,
     "metadata": {},
     "output_type": "execute_result"
    }
   ],
   "source": [
    "qry_str = \"best data ai library\"\n",
    "article_collection.query(query_texts=qry_str, n_results=1)"
   ]
  },
  {
   "cell_type": "code",
   "execution_count": 27,
   "id": "aeb366b1-b566-439b-8359-2c73106e2ec8",
   "metadata": {},
   "outputs": [],
   "source": []
  },
  {
   "cell_type": "code",
   "execution_count": null,
   "id": "be58afd8-d9fb-4558-a948-e7056115cb3d",
   "metadata": {},
   "outputs": [],
   "source": []
  }
 ],
 "metadata": {
  "kernelspec": {
   "display_name": "Python 3 (ipykernel)",
   "language": "python",
   "name": "python3"
  },
  "language_info": {
   "codemirror_mode": {
    "name": "ipython",
    "version": 3
   },
   "file_extension": ".py",
   "mimetype": "text/x-python",
   "name": "python",
   "nbconvert_exporter": "python",
   "pygments_lexer": "ipython3",
   "version": "3.10.6"
  }
 },
 "nbformat": 4,
 "nbformat_minor": 5
}
