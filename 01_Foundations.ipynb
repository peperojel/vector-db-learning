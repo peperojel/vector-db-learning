{
 "cells": [
  {
   "cell_type": "code",
   "execution_count": 1,
   "id": "353168c0-5754-4fdc-b42d-e315df952cfc",
   "metadata": {},
   "outputs": [],
   "source": [
    "import sqlite3"
   ]
  },
  {
   "cell_type": "markdown",
   "id": "a0ba3f7b-33c2-4e7b-be80-2510f3bf9eff",
   "metadata": {
    "jp-MarkdownHeadingCollapsed": true
   },
   "source": [
    "### Basic Setup"
   ]
  },
  {
   "cell_type": "code",
   "execution_count": 22,
   "id": "17c3385e-17fc-486a-9f5a-04b36853e6df",
   "metadata": {},
   "outputs": [
    {
     "name": "stdout",
     "output_type": "stream",
     "text": [
      "[(1, 'John Doe', 30, 'Sales')]\n"
     ]
    }
   ],
   "source": [
    "conn = sqlite3.connect(\"local_dbs/test.db\")\n",
    "cursor = conn.cursor()\n",
    "cursor.execute(\n",
    "\"\"\"\n",
    "CREATE TABLE IF NOT EXISTS employees (\n",
    "    id INTEGER PRIMARY KEY,\n",
    "    name TEXT NOT NULL,\n",
    "    age INTEGER,\n",
    "    department TEXT\n",
    ")\n",
    "\"\"\"\n",
    ")\n",
    "\n",
    "cursor.execute(\n",
    "    \"INSERT INTO employees (name, age, department) VALUES (?, ?, ?)\",\n",
    "    ('John Doe', 30, 'Sales')\n",
    ")\n",
    "\n",
    "cursor.execute(\"SELECT * FROM employees\")\n",
    "\n",
    "rows = cursor.fetchall()\n",
    "\n",
    "print(rows)\n",
    "\n",
    "conn.commit()\n",
    "conn.close()"
   ]
  },
  {
   "cell_type": "markdown",
   "id": "3bd7439a-5312-4ec0-b934-78ca00f5038e",
   "metadata": {
    "jp-MarkdownHeadingCollapsed": true
   },
   "source": [
    "### Storing & Retrieving Vectors"
   ]
  },
  {
   "cell_type": "code",
   "execution_count": 23,
   "id": "69a8ec6d-6c45-4d00-8bef-9ced8bcce974",
   "metadata": {},
   "outputs": [],
   "source": [
    "import sqlite3\n",
    "import numpy as np"
   ]
  },
  {
   "cell_type": "code",
   "execution_count": 24,
   "id": "57331062-c15c-42d0-b148-59dbdc20e236",
   "metadata": {},
   "outputs": [],
   "source": [
    "conn = sqlite3.connect(\"local_dbs/vector-db.db\")\n",
    "cursor = conn.cursor()"
   ]
  },
  {
   "cell_type": "code",
   "execution_count": 27,
   "id": "3894ede2-f83e-44c2-bcb4-c20be8ff5df2",
   "metadata": {},
   "outputs": [
    {
     "data": {
      "text/plain": [
       "<sqlite3.Cursor at 0x10667eb40>"
      ]
     },
     "execution_count": 27,
     "metadata": {},
     "output_type": "execute_result"
    }
   ],
   "source": [
    "# Create a table for storing vector data\n",
    "cursor.execute(\n",
    "\"\"\"\n",
    "CREATE TABLE IF NOT EXISTS vectors (\n",
    "    id INTEGER PRIMARY KEY,\n",
    "    vector BLOB NOT NULL\n",
    ")\n",
    "\"\"\"\n",
    ")"
   ]
  },
  {
   "cell_type": "code",
   "execution_count": 29,
   "id": "8bdc06c9-e606-4ee4-b9b7-0813f270333f",
   "metadata": {},
   "outputs": [],
   "source": [
    "# Generate some sample vectors\n",
    "vec1 = np.array([1.2, 3.3, 4.3, 6.4])\n",
    "vec2 = np.array([1.1, 3.5, 6.3, 2.4])"
   ]
  },
  {
   "cell_type": "code",
   "execution_count": 44,
   "id": "de75e8e8-7e67-4565-b844-be34ea6dbd81",
   "metadata": {},
   "outputs": [
    {
     "data": {
      "text/plain": [
       "<sqlite3.Cursor at 0x10667eb40>"
      ]
     },
     "execution_count": 44,
     "metadata": {},
     "output_type": "execute_result"
    }
   ],
   "source": [
    "# Insert vector data into table\n",
    "cursor.execute(\n",
    "    \"INSERT INTO vectors (vector) VALUES (?)\",\n",
    "    (sqlite3.Binary(vec1.tobytes()),)\n",
    ")"
   ]
  },
  {
   "cell_type": "code",
   "execution_count": 31,
   "id": "5e9b4dfc-b0a1-4b14-bb21-e2e40310b677",
   "metadata": {},
   "outputs": [
    {
     "data": {
      "text/plain": [
       "<sqlite3.Cursor at 0x10667eb40>"
      ]
     },
     "execution_count": 31,
     "metadata": {},
     "output_type": "execute_result"
    }
   ],
   "source": [
    "cursor.execute(\n",
    "    \"INSERT INTO vectors (vector) VALUES (?)\",\n",
    "    (sqlite3.Binary(vec2.tobytes()))\n",
    ")"
   ]
  },
  {
   "cell_type": "code",
   "execution_count": 58,
   "id": "ff3771ad-c618-4a07-a774-aa44a50da916",
   "metadata": {},
   "outputs": [
    {
     "data": {
      "text/plain": [
       "<sqlite3.Cursor at 0x10667eb40>"
      ]
     },
     "execution_count": 58,
     "metadata": {},
     "output_type": "execute_result"
    }
   ],
   "source": [
    "cursor.execute(\"SELECT * from vectors\")"
   ]
  },
  {
   "cell_type": "code",
   "execution_count": 59,
   "id": "d1f30e4d-7e79-4399-b77d-aa19d80af5b6",
   "metadata": {},
   "outputs": [],
   "source": [
    "rows = cursor.fetchall()"
   ]
  },
  {
   "cell_type": "code",
   "execution_count": 60,
   "id": "c59cc939-1fc0-420b-b0d3-7b865934eaf1",
   "metadata": {},
   "outputs": [
    {
     "data": {
      "text/plain": [
       "[(1, b'333333\\xf3?ffffff\\n@333333\\x11@\\x9a\\x99\\x99\\x99\\x99\\x99\\x19@'),\n",
       " (2,\n",
       "  b'\\x9a\\x99\\x99\\x99\\x99\\x99\\xf1?\\x00\\x00\\x00\\x00\\x00\\x00\\x0c@333333\\x19@333333\\x03@'),\n",
       " (3, b'333333\\xf3?ffffff\\n@333333\\x11@\\x9a\\x99\\x99\\x99\\x99\\x99\\x19@')]"
      ]
     },
     "execution_count": 60,
     "metadata": {},
     "output_type": "execute_result"
    }
   ],
   "source": [
    "rows"
   ]
  },
  {
   "cell_type": "code",
   "execution_count": 53,
   "id": "98a4d6f3-116a-4b0b-92e9-6677a7b617bb",
   "metadata": {},
   "outputs": [],
   "source": [
    "vector = np.frombuffer(rows[1][1], dtype = np.float64)"
   ]
  },
  {
   "cell_type": "code",
   "execution_count": 54,
   "id": "3aefc39b-3e62-40ab-8bea-66853933d4a1",
   "metadata": {},
   "outputs": [
    {
     "data": {
      "text/plain": [
       "array([1.1, 3.5, 6.3, 2.4])"
      ]
     },
     "execution_count": 54,
     "metadata": {},
     "output_type": "execute_result"
    }
   ],
   "source": [
    "vector"
   ]
  },
  {
   "cell_type": "code",
   "execution_count": 62,
   "id": "cd98dc0c-363e-412c-8f67-3ace1421b990",
   "metadata": {},
   "outputs": [],
   "source": [
    "vectors = []\n",
    "for row in rows:\n",
    "    vector = np.frombuffer(row[1], dtype = np.float64)\n",
    "    vectors.append(vector)"
   ]
  },
  {
   "cell_type": "code",
   "execution_count": 63,
   "id": "87253dbe-1dcd-4a86-bd97-f4af95b6a206",
   "metadata": {},
   "outputs": [
    {
     "data": {
      "text/plain": [
       "[array([1.2, 3.3, 4.3, 6.4]),\n",
       " array([1.1, 3.5, 6.3, 2.4]),\n",
       " array([1.2, 3.3, 4.3, 6.4])]"
      ]
     },
     "execution_count": 63,
     "metadata": {},
     "output_type": "execute_result"
    }
   ],
   "source": [
    "vectors"
   ]
  },
  {
   "cell_type": "markdown",
   "id": "ba199920-501e-426f-b0c3-4b519fa80c02",
   "metadata": {
    "jp-MarkdownHeadingCollapsed": true
   },
   "source": [
    "### Vector Similarity Search (VSS)"
   ]
  },
  {
   "cell_type": "code",
   "execution_count": 64,
   "id": "04ed4fb5-df0f-40a0-a0f4-a962c32f5856",
   "metadata": {},
   "outputs": [],
   "source": [
    "query_vect = np.array([1.0, 3.2, 2.0, 0.5])"
   ]
  },
  {
   "cell_type": "code",
   "execution_count": 74,
   "id": "d1da001a-3751-4483-8f0a-294ea733649b",
   "metadata": {},
   "outputs": [
    {
     "data": {
      "text/plain": [
       "<sqlite3.Cursor at 0x10667eb40>"
      ]
     },
     "execution_count": 74,
     "metadata": {},
     "output_type": "execute_result"
    }
   ],
   "source": [
    "cursor.execute(\n",
    "\"\"\"\n",
    "    SELECT vector from vectors\n",
    "    ORDER by abs(vector - ?)\n",
    "    ASC\n",
    "\"\"\", (sqlite3.Binary(query_vect.tobytes()),)\n",
    ")"
   ]
  },
  {
   "cell_type": "code",
   "execution_count": 75,
   "id": "22e22d8d-f96d-4c3f-99cf-d747678f1e2f",
   "metadata": {},
   "outputs": [],
   "source": [
    "res = cursor.fetchone()"
   ]
  },
  {
   "cell_type": "code",
   "execution_count": 79,
   "id": "03808ebc-87eb-4542-b2b5-497547ca4be5",
   "metadata": {},
   "outputs": [],
   "source": [
    "closest_vect = np.frombuffer(res[0], dtype = np.float64)"
   ]
  },
  {
   "cell_type": "code",
   "execution_count": 80,
   "id": "8121ec43-5b7f-40dd-903e-2d5f3925cf5c",
   "metadata": {},
   "outputs": [
    {
     "data": {
      "text/plain": [
       "array([1.1, 3.5, 6.3, 2.4])"
      ]
     },
     "execution_count": 80,
     "metadata": {},
     "output_type": "execute_result"
    }
   ],
   "source": [
    "closest_vect"
   ]
  },
  {
   "cell_type": "code",
   "execution_count": null,
   "id": "0db9567c-a4e3-4439-aeb1-4a56824f7efe",
   "metadata": {},
   "outputs": [],
   "source": []
  }
 ],
 "metadata": {
  "kernelspec": {
   "display_name": "Python 3 (ipykernel)",
   "language": "python",
   "name": "python3"
  },
  "language_info": {
   "codemirror_mode": {
    "name": "ipython",
    "version": 3
   },
   "file_extension": ".py",
   "mimetype": "text/x-python",
   "name": "python",
   "nbconvert_exporter": "python",
   "pygments_lexer": "ipython3",
   "version": "3.10.6"
  }
 },
 "nbformat": 4,
 "nbformat_minor": 5
}
